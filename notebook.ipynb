{
  "cells": [
    {
      "cell_type": "markdown",
      "source": "### binary-svc.py",
      "metadata": {
        "tags": [],
        "cell_id": "00000-de5d5b71-e1b6-47be-b718-f5b1b078917c",
        "deepnote_cell_type": "markdown"
      }
    },
    {
      "cell_type": "code",
      "metadata": {
        "tags": [],
        "cell_id": "00000-df8b2cac-23b3-4977-b459-d87698bf054c",
        "deepnote_to_be_reexecuted": false,
        "source_hash": "ee5fb6ce",
        "execution_millis": 2094,
        "execution_start": 1615233859781,
        "deepnote_cell_type": "code"
      },
      "source": "from pandas.io.parsers import TextFileReader\nfrom utils import DataLoader\n\nfrom sklearn.feature_extraction.text import TfidfVectorizer\nfrom sklearn.svm import SVC\nfrom sklearn.model_selection import KFold\nfrom sklearn.metrics import f1_score, balanced_accuracy_score, confusion_matrix",
      "execution_count": null,
      "outputs": []
    },
    {
      "cell_type": "code",
      "metadata": {
        "tags": [],
        "cell_id": "00001-f80fd92d-40b7-47cc-8694-10a1c63da935",
        "deepnote_to_be_reexecuted": false,
        "source_hash": "b8264ef4",
        "execution_millis": 474,
        "execution_start": 1615233867723,
        "deepnote_cell_type": "code"
      },
      "source": "import nltk\nnltk.download('wordnet')\nnltk.download('stopwords')",
      "execution_count": null,
      "outputs": [
        {
          "name": "stderr",
          "text": "[nltk_data] Downloading package wordnet to /root/nltk_data...\n[nltk_data]   Unzipping corpora/wordnet.zip.\n[nltk_data] Downloading package stopwords to /root/nltk_data...\n[nltk_data]   Unzipping corpora/stopwords.zip.\n",
          "output_type": "stream"
        },
        {
          "output_type": "execute_result",
          "execution_count": 2,
          "data": {
            "text/plain": "True"
          },
          "metadata": {}
        }
      ]
    },
    {
      "cell_type": "code",
      "metadata": {
        "tags": [],
        "cell_id": "00001-f53a316b-e174-4018-9240-d90aa2206bb4",
        "deepnote_to_be_reexecuted": false,
        "source_hash": "c7e92311",
        "execution_millis": 1881,
        "execution_start": 1615233869448,
        "deepnote_cell_type": "code"
      },
      "source": "dl = DataLoader('/work/hatespeech-detection/data/Ethos_Dataset_Binary.csv')\nX, y = dl.get_data()\nprint(len(X), len(y))\nprint(f'{len(y)-sum(y)} (label : 0) + {sum(y)} (label : 1) = {len(y)}')\nprint(X[0])\nprint(y[0])\nclass_names = ['not-hate-speech', 'hate-speech']",
      "execution_count": null,
      "outputs": [
        {
          "name": "stdout",
          "text": "Loaded file : Ethos_Dataset_Binary.csv\n998 998\n565 (label : 0) + 433 (label : 1) = 998\nthey must be realli suffer if they are throw food all over the ground for the pigeon\n0\n",
          "output_type": "stream"
        }
      ]
    },
    {
      "cell_type": "code",
      "metadata": {
        "tags": [],
        "cell_id": "00002-ca8a8fcf-cdc9-4e64-b84b-8568fe5acce8",
        "deepnote_to_be_reexecuted": false,
        "source_hash": "558915de",
        "execution_millis": 10874,
        "execution_start": 1615228264855,
        "deepnote_cell_type": "code"
      },
      "source": "# ML Model\nkf = KFold(n_splits=10)\nkf.get_n_splits()\n\nfor train_idx, test_idx in kf.split(X):\n    X_train, X_test = X[train_idx], X[test_idx]\n    y_train, y_test = y[train_idx], y[test_idx]\n\n    vec = TfidfVectorizer(\n        analyzer='word', ngram_range=(1, 5), max_features=50000)\n    vec.fit(X_train)\n    X_tr = vec.transform(X_train)\n    X_te = vec.transform(X_test)\n    X_tw = vec.transform(X)\n    svm = SVC(kernel='rbf')\n    svm.fit(X_tr, y_train)\n\n    y_predict = svm.predict(X_te)\n    print('F1 : ', f1_score(y_test, y_predict, average='weighted'))\n    print('CF-Mat : \\n', confusion_matrix(y_test, y_predict))\n",
      "execution_count": null,
      "outputs": [
        {
          "name": "stdout",
          "text": "F1 :  0.49746808790630337\nCF-Mat : \n [[54  3]\n [38  5]]\nF1 :  0.5963825363825364\nCF-Mat : \n [[57  2]\n [32  9]]\nF1 :  0.4433622986907658\nCF-Mat : \n [[45  2]\n [45  8]]\nF1 :  0.6202666666666665\nCF-Mat : \n [[59  2]\n [30  9]]\nF1 :  0.5278853046594982\nCF-Mat : \n [[59  1]\n [36  4]]\nF1 :  0.5694545454545455\nCF-Mat : \n [[54  4]\n [33  9]]\nF1 :  0.5441580041580041\nCF-Mat : \n [[55  3]\n [35  7]]\nF1 :  0.5509393161238004\nCF-Mat : \n [[57  3]\n [34  6]]\nF1 :  0.4501224906053586\nCF-Mat : \n [[47  1]\n [44  7]]\nF1 :  0.5732323232323232\nCF-Mat : \n [[54  3]\n [33  9]]\n",
          "output_type": "stream"
        }
      ]
    },
    {
      "cell_type": "markdown",
      "source": "## binary-classics-setA.py",
      "metadata": {
        "tags": [],
        "cell_id": "00005-f6ab31b3-f526-418e-a4a1-51965cc9cf6d",
        "deepnote_cell_type": "markdown"
      }
    },
    {
      "cell_type": "code",
      "metadata": {
        "tags": [],
        "cell_id": "00005-1ee13a39-593d-4603-b645-399d17340545",
        "deepnote_to_be_reexecuted": false,
        "source_hash": "2fa20706",
        "execution_millis": 165,
        "execution_start": 1615233882734,
        "deepnote_cell_type": "code"
      },
      "source": "\"\"\"\nIn these experiments we will try logistic regression, svms, ridge, decision trees, naive bayes and random forests classifiers across a wide variety of parameters for each algorithm and test them via nested cross validation method.\n\"\"\"\n\nfrom utils import DataLoader, nested_cross_val\nfrom sklearn.ensemble import RandomForestClassifier\nfrom sklearn.feature_extraction.text import TfidfVectorizer\nfrom sklearn.linear_model import LogisticRegression, RidgeClassifier\nfrom sklearn.naive_bayes import MultinomialNB, BernoulliNB\nfrom sklearn.model_selection import KFold, GridSearchCV\nfrom sklearn.pipeline import Pipeline\nfrom sklearn.svm import SVC\nfrom sklearn.tree import DecisionTreeClassifier\nfrom sklearn.metrics import make_scorer, confusion_matrix, f1_score, accuracy_score, precision_score, recall_score\n\n# https://github.com/intelligence-csd-auth-gr/Ethos-Hate-Speech-Dataset/tree/master/ethos",
      "execution_count": null,
      "outputs": []
    },
    {
      "cell_type": "code",
      "metadata": {
        "tags": [],
        "cell_id": "00006-6a68289f-087d-4ac9-aea2-5b204fb912ec",
        "deepnote_to_be_reexecuted": false,
        "source_hash": "72c230b7",
        "execution_millis": 312,
        "execution_start": 1615233886861,
        "deepnote_cell_type": "code"
      },
      "source": "dl = DataLoader('data/Ethos_Dataset_Binary.csv')\nX, y = dl.get_data()\nf = open(\"res/setA.txt\", \"w+\")\nf.write(\"{: <7} | {: <7} {: <7} {: <7} {: <7} {: <7} {: <7} {: <7} {: <7} \\n\"\n        .format('Method', 'Duration', 'scoreTi', 'F1', 'Prec.', 'Recall', 'Acc.', 'Spec.', 'Sens.'))\nf.write(\"=========================================================================\\n\")\nf.close()",
      "execution_count": null,
      "outputs": [
        {
          "name": "stdout",
          "text": "Loaded file : Ethos_Dataset_Binary.csv\n",
          "output_type": "stream"
        }
      ]
    },
    {
      "cell_type": "code",
      "metadata": {
        "tags": [],
        "cell_id": "00007-e53dc497-8d61-404e-b435-bf67c281963c",
        "deepnote_to_be_reexecuted": false,
        "source_hash": "a05d676",
        "execution_millis": 423671,
        "execution_start": 1615233889069,
        "deepnote_cell_type": "code"
      },
      "source": "\"\"\"\"\"\"\"\"\"\"\"\"\"\"\"\"\"\"\"\"\"\"\"\"\"\"\"\"\"\"\"\"\"\"\"\"\"\"\"\"\"\"\"\"\"\"\"\"\"\"\"\"\"\"\"\"\"\"\"\"\"\"\"\"\"\"\"\"\"\n                            Run Naive Bayes\n\"\"\"\"\"\"\"\"\"\"\"\"\"\"\"\"\"\"\"\"\"\"\"\"\"\"\"\"\"\"\"\"\"\"\"\"\"\"\"\"\"\"\"\"\"\"\"\"\"\"\"\"\"\"\"\"\"\"\"\"\"\"\"\"\"\"\"\"\"\nmNB = MultinomialNB()\nvec = TfidfVectorizer(analyzer='word')\npipe = Pipeline(\n    steps=[('vec', vec), ('mNB', mNB)])\nparameters = [{\n    'vec__ngram_range': [(1, 1), (1, 2), (1, 5)],\n    'vec__max_features':[5000, 10000, 50000, 100000],\n    'vec__stop_words':['english', None],\n    'mNB__alpha':[1, 0.1, 0.01, 0.001, 0.0001, 0.00001]\n}]\nnested_cross_val(pipe, parameters, X, y, \"MultiNB\",\n                 n_jobs=18, filename='setA.txt')\n",
      "execution_count": null,
      "outputs": [
        {
          "name": "stdout",
          "text": "Fitting 3 folds for each of 144 candidates, totalling 432 fits\nFitting 3 folds for each of 144 candidates, totalling 432 fits\nFitting 3 folds for each of 144 candidates, totalling 432 fits\nFitting 3 folds for each of 144 candidates, totalling 432 fits\nFitting 3 folds for each of 144 candidates, totalling 432 fits\nFitting 3 folds for each of 144 candidates, totalling 432 fits\nFitting 3 folds for each of 144 candidates, totalling 432 fits\nFitting 3 folds for each of 144 candidates, totalling 432 fits\nFitting 3 folds for each of 144 candidates, totalling 432 fits\nFitting 3 folds for each of 144 candidates, totalling 432 fits\n{'fit_time': [52.19337773323059, 40.227173805236816, 41.05148124694824, 41.993287563323975, 40.82895588874817, 42.34011101722717, 41.18693542480469, 40.73002338409424, 41.2088828086853, 41.69671821594238], 'score_time': [0.004857063293457031, 0.00477910041809082, 0.0037631988525390625, 0.0063207149505615234, 0.00845479965209961, 0.003782033920288086, 0.005002260208129883, 0.007730960845947266, 0.003124713897705078, 0.007771492004394531], 'test_F1': [0.6396986570586309, 0.7092731829573935, 0.614448051948052, 0.5793334052421529, 0.6053333333333334, 0.6666666666666666, 0.7076318177235609, 0.6482765551200884, 0.6142329778506973, 0.6238061004416144], 'test_Precision': [0.6595238095238095, 0.7112845138055222, 0.6208333333333333, 0.5798611111111112, 0.6055008210180624, 0.6650346797225621, 0.71, 0.6488595438175271, 0.6175249169435215, 0.625], 'test_Recall': [0.6384869780901199, 0.7142857142857143, 0.6161858974358975, 0.5789360789360789, 0.6162369968340118, 0.6735306735306735, 0.7170318313352625, 0.650974025974026, 0.6155102040816327, 0.6237725040916531], 'test_Accuracy': [0.67, 0.71, 0.62, 0.61, 0.63, 0.68, 0.71, 0.65, 0.6161616161616161, 0.6262626262626263], 'test_Specificity': [0.8135593220338984, 0.6785714285714286, 0.7115384615384616, 0.6984126984126984, 0.6567164179104478, 0.6984126984126984, 0.6779661016949152, 0.6590909090909091, 0.68, 0.6730769230769231], 'test_Sensitivity': [0.4634146341463415, 0.75, 0.5208333333333334, 0.4594594594594595, 0.5757575757575758, 0.6486486486486487, 0.7560975609756098, 0.6428571428571429, 0.5510204081632653, 0.574468085106383]}\nMultiNB fit_time: 42.345694708824155\nMultiNB score_time: 0.005558633804321289\nMultiNB test_F1: 0.6408700748342191\nMultiNB test_Precision: 0.6443422729275449\nMultiNB test_Recall: 0.6444950904595069\nMultiNB test_Accuracy: 0.6522424242424243\nMultiNB test_Specificity: 0.6947344960742381\nMultiNB test_Sensitivity: 0.594255684844776\nMultiNB | 42.3457 0.0056  0.6409  0.6443  0.6445  0.6522  0.6947  0.5943  \n\n",
          "output_type": "stream"
        }
      ]
    },
    {
      "cell_type": "code",
      "metadata": {
        "tags": [],
        "cell_id": "00009-0126a17c-5c4d-48c1-ae40-67e05d996af5",
        "deepnote_to_be_reexecuted": false,
        "source_hash": "2a16eb3b",
        "execution_millis": 416359,
        "execution_start": 1615234327246,
        "deepnote_cell_type": "code"
      },
      "source": "bNB = BernoulliNB(binarize=0.5)\nvec = TfidfVectorizer(analyzer='word')\npipe = Pipeline(steps=[('vec', vec), ('bNB', bNB)])\nparameters = [{\n    'vec__ngram_range': [(1, 1), (1, 2), (1, 5)],\n    'vec__max_features':[5000, 10000, 50000, 100000],\n    'vec__stop_words':['english', None],\n    'bNB__alpha':[1, 0.1, 0.01, 0.001, 0.0001, 0.00001]\n}]\nnested_cross_val(pipe, parameters, X, y, \"BernouNB\")",
      "execution_count": null,
      "outputs": [
        {
          "name": "stdout",
          "text": "Fitting 3 folds for each of 144 candidates, totalling 432 fits\nFitting 3 folds for each of 144 candidates, totalling 432 fits\nFitting 3 folds for each of 144 candidates, totalling 432 fits\nFitting 3 folds for each of 144 candidates, totalling 432 fits\nFitting 3 folds for each of 144 candidates, totalling 432 fits\nFitting 3 folds for each of 144 candidates, totalling 432 fits\nFitting 3 folds for each of 144 candidates, totalling 432 fits\nFitting 3 folds for each of 144 candidates, totalling 432 fits\nFitting 3 folds for each of 144 candidates, totalling 432 fits\nFitting 3 folds for each of 144 candidates, totalling 432 fits\n{'fit_time': [41.276970624923706, 41.482919216156006, 42.26413941383362, 42.18300271034241, 41.987168073654175, 41.598944425582886, 41.87973093986511, 40.74082922935486, 41.292404651641846, 41.44654202461243], 'score_time': [0.010764598846435547, 0.0067751407623291016, 0.005350589752197266, 0.00328826904296875, 0.006110191345214844, 0.005009889602661133, 0.005639076232910156, 0.006237030029296875, 0.010463953018188477, 0.00552821159362793], 'test_F1': [0.4591346153846154, 0.4747474747474747, 0.46739021203899106, 0.45211038961038963, 0.4999999999999999, 0.4987212276214834, 0.46567194273616297, 0.42948653788409574, 0.5330188679245282, 0.5447112927950946], 'test_Precision': [0.4686868686868687, 0.4750402576489533, 0.4676767676767677, 0.4625850340136054, 0.5098354074668807, 0.5048076923076923, 0.47000000000000003, 0.4333600963468487, 0.536967418546366, 0.5447303921568627], 'test_Recall': [0.46796196775527077, 0.47483766233766234, 0.46794871794871795, 0.4598884598884599, 0.5110809588421529, 0.5051480051480052, 0.4689954526663911, 0.4326298701298701, 0.5361224489795918, 0.5448036006546645], 'test_Accuracy': [0.46, 0.48, 0.47, 0.46, 0.52, 0.51, 0.47, 0.43, 0.5353535353535354, 0.5454545454545454], 'test_Specificity': [0.423728813559322, 0.5178571428571429, 0.5192307692307693, 0.4603174603174603, 0.5373134328358209, 0.5238095238095238, 0.4745762711864407, 0.45454545454545453, 0.46, 0.5576923076923077], 'test_Sensitivity': [0.5121951219512195, 0.4318181818181818, 0.4166666666666667, 0.4594594594594595, 0.48484848484848486, 0.4864864864864865, 0.4634146341463415, 0.4107142857142857, 0.6122448979591837, 0.5319148936170213]}\nBernouNB fit_time: 41.615265130996704\nBernouNB score_time: 0.006516695022583008\nBernouNB test_F1: 0.4824992560742835\nBernouNB test_Precision: 0.4873689934850846\nBernouNB test_Recall: 0.48694171443507867\nBernouNB test_Accuracy: 0.488080808080808\nBernouNB test_Specificity: 0.4929071176034242\nBernouNB test_Sensitivity: 0.4809763112667332\nBernouN | 41.6153 0.0065  0.4825  0.4874  0.4869  0.4881  0.4929  0.4810  \n\n",
          "output_type": "stream"
        }
      ]
    },
    {
      "cell_type": "code",
      "metadata": {
        "tags": [],
        "cell_id": "00010-41efdf3a-cee6-45e4-a4df-4480d4461674",
        "deepnote_to_be_reexecuted": false,
        "source_hash": "e22d9f7d",
        "execution_millis": 10959921,
        "execution_start": 1615234743604,
        "deepnote_cell_type": "code"
      },
      "source": "# \"\"\"\"\"\"\"\"\"\"\"\"\"\"\"\"\"\"\"\"\"\"\"\"\"\"\"\"\"\"\"\"\"\"\"\"\"\"\"\"\"\"\"\"\"\"\"\"\"\"\"\"\"\"\"\"\"\"\"\"\"\"\"\"\"\"\"\"\"\n#                     Run Logistic Regression\n# \"\"\"\"\"\"\"\"\"\"\"\"\"\"\"\"\"\"\"\"\"\"\"\"\"\"\"\"\"\"\"\"\"\"\"\"\"\"\"\"\"\"\"\"\"\"\"\"\"\"\"\"\"\"\"\"\"\"\"\"\"\"\"\"\"\"\"\"\"\nlog = LogisticRegression(random_state=0, max_iter=1000, n_jobs=-1)\nvec = TfidfVectorizer(analyzer='word')\npipe = Pipeline(steps=[('vec', vec), ('log', log)])\nparameters = [{\n    'vec__ngram_range': [(1, 1), (1, 2), (1, 5)],\n    'vec__max_features':[5000, 10000, 50000, 100000],\n    'vec__stop_words':['english', None],\n    'log__C':[0.5, 1, 3, 5, 10, 1000],\n    'log__solver':['newton-cg', 'lbfgs', 'sag'],\n    'log__penalty':['l2']\n}, {\n    'vec__ngram_range': [(1, 1), (1, 2), (1, 5)],\n    'vec__max_features':[5000, 10000, 50000, 100000],\n    'vec__stop_words':['english', None],\n    'log__C':[0.5, 1, 3, 5, 10, 1000],\n    'log__solver':['saga'],\n    'log__penalty':['l1']\n}]\nnested_cross_val(pipe, parameters, X, y, \"LogReg\")",
      "execution_count": null,
      "outputs": [
        {
          "name": "stdout",
          "text": "Fitting 3 folds for each of 576 candidates, totalling 1728 fits\n/shared-libs/python3.7/py/lib/python3.7/site-packages/sklearn/linear_model/_sag.py:329: ConvergenceWarning: The max_iter was reached which means the coef_ did not converge\n  \"the coef_ did not converge\", ConvergenceWarning)\nFitting 3 folds for each of 576 candidates, totalling 1728 fits\nFitting 3 folds for each of 576 candidates, totalling 1728 fits\nFitting 3 folds for each of 576 candidates, totalling 1728 fits\nFitting 3 folds for each of 576 candidates, totalling 1728 fits\nFitting 3 folds for each of 576 candidates, totalling 1728 fits\nFitting 3 folds for each of 576 candidates, totalling 1728 fits\nFitting 3 folds for each of 576 candidates, totalling 1728 fits\n/shared-libs/python3.7/py/lib/python3.7/site-packages/sklearn/linear_model/_sag.py:329: ConvergenceWarning: The max_iter was reached which means the coef_ did not converge\n  \"the coef_ did not converge\", ConvergenceWarning)\nFitting 3 folds for each of 576 candidates, totalling 1728 fits\nFitting 3 folds for each of 576 candidates, totalling 1728 fits\n{'fit_time': [940.0284416675568, 945.3995358943939, 949.4848158359528, 981.4002497196198, 1331.0336298942566, 1324.063908815384, 989.1675162315369, 943.0378432273865, 1229.0421719551086, 1326.9282703399658], 'score_time': [0.011990785598754883, 0.01048135757446289, 0.006036996841430664, 0.012997865676879883, 0.019150257110595703, 0.007010221481323242, 0.005795955657958984, 0.010532617568969727, 0.009633541107177734, 0.009042978286743164], 'test_F1': [0.6186270574066639, 0.7033248081841432, 0.6753246753246753, 0.6604414261460103, 0.6996996996996998, 0.7057587221521648, 0.6643271284711626, 0.6715927750410509, 0.6867408390323568, 0.6969387755102041], 'test_Precision': [0.6258530710558009, 0.7058701942951633, 0.6833333333333333, 0.6591004623791509, 0.6957420421661844, 0.7031831335262505, 0.6638486312399356, 0.675, 0.6868872549019608, 0.6979166666666666], 'test_Recall': [0.6295990078544853, 0.7021103896103896, 0.6762820512820513, 0.6623766623766624, 0.7141564902758932, 0.7108537108537109, 0.6682513435303845, 0.6704545454545454, 0.6867346938775509, 0.6982405891980361], 'test_Accuracy': [0.62, 0.71, 0.68, 0.68, 0.72, 0.72, 0.67, 0.68, 0.6868686868686869, 0.696969696969697], 'test_Specificity': [0.576271186440678, 0.7678571428571429, 0.7692307692307693, 0.7301587301587301, 0.7313432835820896, 0.746031746031746, 0.6779661016949152, 0.5909090909090909, 0.7, 0.6730769230769231], 'test_Sensitivity': [0.6829268292682927, 0.6363636363636364, 0.5833333333333334, 0.5945945945945946, 0.696969696969697, 0.6756756756756757, 0.6585365853658537, 0.75, 0.673469387755102, 0.723404255319149]}\nLogReg fit_time: 1095.958638358116\nLogReg score_time: 0.010267257690429688\nLogReg test_F1: 0.6782775906968133\nLogReg test_Precision: 0.6796734789564446\nLogReg test_Recall: 0.681905948431371\nLogReg test_Accuracy: 0.6863838383838383\nLogReg test_Specificity: 0.6962844973982085\nLogReg test_Sensitivity: 0.6675273994645334\nLogReg  | 1095.9586 0.0103  0.6783  0.6797  0.6819  0.6864  0.6963  0.6675  \n\n/shared-libs/python3.7/py/lib/python3.7/site-packages/sklearn/linear_model/_sag.py:329: ConvergenceWarning: The max_iter was reached which means the coef_ did not converge\n  \"the coef_ did not converge\", ConvergenceWarning)\n",
          "output_type": "stream"
        }
      ]
    },
    {
      "cell_type": "code",
      "metadata": {
        "tags": [],
        "cell_id": "00011-d1e2334d-8601-4809-988e-fddf83b0809d",
        "deepnote_to_be_reexecuted": false,
        "source_hash": "d47cbe90",
        "execution_start": 1615245703524,
        "execution_millis": 2349674,
        "deepnote_cell_type": "code"
      },
      "source": "# \"\"\"\"\"\"\"\"\"\"\"\"\"\"\"\"\"\"\"\"\"\"\"\"\"\"\"\"\"\"\"\"\"\"\"\"\"\"\"\"\"\"\"\"\"\"\"\"\"\"\"\"\"\"\"\"\"\"\"\"\"\"\"\"\"\"\"\"\"\n#                             Run RidgeClassifier\n# \"\"\"\"\"\"\"\"\"\"\"\"\"\"\"\"\"\"\"\"\"\"\"\"\"\"\"\"\"\"\"\"\"\"\"\"\"\"\"\"\"\"\"\"\"\"\"\"\"\"\"\"\"\"\"\"\"\"\"\"\"\"\"\"\"\"\"\"\"\nridge = RidgeClassifier(random_state=0, fit_intercept=False)\nvec = TfidfVectorizer(analyzer='word')\npipe = Pipeline(steps=[('vec', vec), ('ridge', ridge)])\nparameters = [{\n    'vec__ngram_range': [(1, 1), (1, 2), (1, 5)],\n    'vec__max_features':[5000, 10000, 50000, 100000],\n    'vec__stop_words':['english', None],\n    'ridge__solver':['cholesky', 'lsqr', 'sparse_cg', 'saga'],\n    'ridge__alpha':[1, 0.1, 0.01, 0.001, 0.0001, 0]\n}]\nnested_cross_val(pipe, parameters, X, y, \"Ridge\")",
      "execution_count": null,
      "outputs": [
        {
          "name": "stdout",
          "text": "Fitting 3 folds for each of 576 candidates, totalling 1728 fits\nFitting 3 folds for each of 576 candidates, totalling 1728 fits\nFitting 3 folds for each of 576 candidates, totalling 1728 fits\nFitting 3 folds for each of 576 candidates, totalling 1728 fits\nFitting 3 folds for each of 576 candidates, totalling 1728 fits\nFitting 3 folds for each of 576 candidates, totalling 1728 fits\nFitting 3 folds for each of 576 candidates, totalling 1728 fits\nFitting 3 folds for each of 576 candidates, totalling 1728 fits\nFitting 3 folds for each of 576 candidates, totalling 1728 fits\nFitting 3 folds for each of 576 candidates, totalling 1728 fits\n{'fit_time': [327.88445520401, 283.4724087715149, 222.31396222114563, 223.00946736335754, 208.81837940216064, 221.33240866661072, 218.72612380981445, 215.41228675842285, 217.70665574073792, 210.70419836044312], 'score_time': [0.00557255744934082, 0.016356945037841797, 0.005475759506225586, 0.007506370544433594, 0.005076885223388672, 0.006999015808105469, 0.006278038024902344, 0.003746509552001953, 0.009028196334838867, 0.006039619445800781], 'test_F1': [0.6683750376846548, 0.6828644501278773, 0.6643271284711627, 0.6006725514922235, 0.5894909688013136, 0.6624040920716112, 0.6439833180754755, 0.6587715776796468, 0.7059907834101382, 0.6299833887043189], 'test_Precision': [0.6738782051282051, 0.6852004960727573, 0.6740226986128626, 0.5998346424142207, 0.6034413765506202, 0.6650641025641025, 0.643719806763285, 0.6599999999999999, 0.7090909090909091, 0.6371794871794871], 'test_Recall': [0.6794129805704836, 0.6818181818181819, 0.6658653846153846, 0.6036036036036037, 0.6169154228855721, 0.6767481767481768, 0.6475816453079786, 0.6623376623376623, 0.706530612244898, 0.631342062193126], 'test_Accuracy': [0.67, 0.69, 0.67, 0.62, 0.6, 0.67, 0.65, 0.66, 0.7070707070707071, 0.6363636363636364], 'test_Specificity': [0.6271186440677966, 0.75, 0.7692307692307693, 0.6666666666666666, 0.5671641791044776, 0.6507936507936508, 0.6610169491525424, 0.6818181818181818, 0.76, 0.7307692307692307], 'test_Sensitivity': [0.7317073170731707, 0.6136363636363636, 0.5625, 0.5405405405405406, 0.6666666666666666, 0.7027027027027027, 0.6341463414634146, 0.6428571428571429, 0.6530612244897959, 0.5319148936170213]}\nRidge fit_time: 234.93803462982177\nRidge score_time: 0.007207989692687988\nRidge test_F1: 0.6506863296518424\nRidge test_Precision: 0.655143172437645\nRidge test_Recall: 0.6572155732325068\nRidge test_Accuracy: 0.6573434343434343\nRidge test_Specificity: 0.6864578271603315\nRidge test_Sensitivity: 0.6279733193046819\nRidge   | 234.9380 0.0072  0.6507  0.6551  0.6572  0.6573  0.6865  0.6280  \n\n",
          "output_type": "stream"
        }
      ]
    },
    {
      "cell_type": "code",
      "metadata": {
        "tags": [],
        "cell_id": "00012-7072ab43-5d2f-4844-9309-f6201587cd25",
        "deepnote_to_be_reexecuted": false,
        "source_hash": "a63d5856",
        "execution_start": 1615285427648,
        "execution_millis": 175,
        "deepnote_cell_type": "code"
      },
      "source": "# \"\"\"\"\"\"\"\"\"\"\"\"\"\"\"\"\"\"\"\"\"\"\"\"\"\"\"\"\"\"\"\"\"\"\"\"\"\"\"\"\"\"\"\"\"\"\"\"\"\"\"\"\"\"\"\"\"\"\"\"\"\"\"\"\"\"\"\"\"\n#                             Run DecisionTree\n# \"\"\"\"\"\"\"\"\"\"\"\"\"\"\"\"\"\"\"\"\"\"\"\"\"\"\"\"\"\"\"\"\"\"\"\"\"\"\"\"\"\"\"\"\"\"\"\"\"\"\"\"\"\"\"\"\"\"\"\"\"\"\"\"\"\"\"\"\"\ndTree = DecisionTreeClassifier(random_state=0)\nvec = TfidfVectorizer(analyzer='word')\npipe = Pipeline(steps=[('vec', vec), ('dTree', dTree)])\nparameters = [{\n    'vec__ngram_range': [(1, 1), (1, 2), (1, 5)],\n    'vec__max_features':[5000, 10000, 50000, 100000],\n    'vec__stop_words':['english', None],\n    'dTree__criterion':['gini', 'entropy'],\n    'dTree__max_depth':[1, 2, 3, 4, 5, 10, 25, 50, 100, 200],\n    'dTree__max_features':[2, 3, 4, 5, 'sqrt', 'log2', None],\n    'dTree__min_samples_leaf': [1, 2, 3, 4, 5],\n    'dTree__min_samples_split': [2, 4, 8, 10, 12]\n}]\nnested_cross_val(pipe, parameters, X, y, \"DTree\")\n\n",
      "execution_count": 1,
      "outputs": [
        {
          "output_type": "error",
          "ename": "NameError",
          "evalue": "name 'DecisionTreeClassifier' is not defined",
          "traceback": [
            "\u001b[0;31m---------------------------------------------------------------------------\u001b[0m",
            "\u001b[0;31mNameError\u001b[0m                                 Traceback (most recent call last)",
            "\u001b[0;32m<ipython-input-1-2b15fd5eaf64>\u001b[0m in \u001b[0;36m<module>\u001b[0;34m\u001b[0m\n\u001b[1;32m      2\u001b[0m \u001b[0;31m#                             Run DecisionTree\u001b[0m\u001b[0;34m\u001b[0m\u001b[0;34m\u001b[0m\u001b[0;34m\u001b[0m\u001b[0m\n\u001b[1;32m      3\u001b[0m \u001b[0;31m# \"\"\"\"\"\"\"\"\"\"\"\"\"\"\"\"\"\"\"\"\"\"\"\"\"\"\"\"\"\"\"\"\"\"\"\"\"\"\"\"\"\"\"\"\"\"\"\"\"\"\"\"\"\"\"\"\"\"\"\"\"\"\"\"\"\"\"\"\"\u001b[0m\u001b[0;34m\u001b[0m\u001b[0;34m\u001b[0m\u001b[0;34m\u001b[0m\u001b[0m\n\u001b[0;32m----> 4\u001b[0;31m \u001b[0mdTree\u001b[0m \u001b[0;34m=\u001b[0m \u001b[0mDecisionTreeClassifier\u001b[0m\u001b[0;34m(\u001b[0m\u001b[0mrandom_state\u001b[0m\u001b[0;34m=\u001b[0m\u001b[0;36m0\u001b[0m\u001b[0;34m)\u001b[0m\u001b[0;34m\u001b[0m\u001b[0;34m\u001b[0m\u001b[0m\n\u001b[0m\u001b[1;32m      5\u001b[0m \u001b[0mvec\u001b[0m \u001b[0;34m=\u001b[0m \u001b[0mTfidfVectorizer\u001b[0m\u001b[0;34m(\u001b[0m\u001b[0manalyzer\u001b[0m\u001b[0;34m=\u001b[0m\u001b[0;34m'word'\u001b[0m\u001b[0;34m)\u001b[0m\u001b[0;34m\u001b[0m\u001b[0;34m\u001b[0m\u001b[0m\n\u001b[1;32m      6\u001b[0m \u001b[0mpipe\u001b[0m \u001b[0;34m=\u001b[0m \u001b[0mPipeline\u001b[0m\u001b[0;34m(\u001b[0m\u001b[0msteps\u001b[0m\u001b[0;34m=\u001b[0m\u001b[0;34m[\u001b[0m\u001b[0;34m(\u001b[0m\u001b[0;34m'vec'\u001b[0m\u001b[0;34m,\u001b[0m \u001b[0mvec\u001b[0m\u001b[0;34m)\u001b[0m\u001b[0;34m,\u001b[0m \u001b[0;34m(\u001b[0m\u001b[0;34m'dTree'\u001b[0m\u001b[0;34m,\u001b[0m \u001b[0mdTree\u001b[0m\u001b[0;34m)\u001b[0m\u001b[0;34m]\u001b[0m\u001b[0;34m)\u001b[0m\u001b[0;34m\u001b[0m\u001b[0;34m\u001b[0m\u001b[0m\n",
            "\u001b[0;31mNameError\u001b[0m: name 'DecisionTreeClassifier' is not defined"
          ]
        }
      ]
    },
    {
      "cell_type": "code",
      "metadata": {
        "tags": [],
        "cell_id": "00013-b448276e-5bde-480b-9faf-7e3bdb7d87a9",
        "deepnote_to_be_reexecuted": true,
        "source_hash": "372d2de",
        "deepnote_cell_type": "code"
      },
      "source": "# \"\"\"\"\"\"\"\"\"\"\"\"\"\"\"\"\"\"\"\"\"\"\"\"\"\"\"\"\"\"\"\"\"\"\"\"\"\"\"\"\"\"\"\"\"\"\"\"\"\"\"\"\"\"\"\"\"\"\"\"\"\"\"\"\"\"\"\"\"\n#                             Run RandomForest\n# \"\"\"\"\"\"\"\"\"\"\"\"\"\"\"\"\"\"\"\"\"\"\"\"\"\"\"\"\"\"\"\"\"\"\"\"\"\"\"\"\"\"\"\"\"\"\"\"\"\"\"\"\"\"\"\"\"\"\"\"\"\"\"\"\"\"\"\"\"\nrandFor = RandomForestClassifier(random_state=0, n_jobs=-1)\nvec = TfidfVectorizer(analyzer='word')\npipe = Pipeline(steps=[('vec', vec), ('randFor', randFor)])\nparameters = [{\n    'vec__ngram_range': [(1, 1), (1, 2), (1, 5)],\n    'vec__max_features':[5000, 10000, 50000, 100000],\n    'vec__stop_words':['english', None],\n    'randFor__max_depth':[1, 10, 50, 100, 200],\n    'randFor__max_features':['sqrt', 'log2', None],\n    'randFor__bootstrap':[True, False],\n    'randFor__n_estimators': [10, 100, 500, 1000]\n}]\nnested_cross_val(pipe, parameters, X, y, \"RandomForest\")",
      "execution_count": null,
      "outputs": []
    },
    {
      "cell_type": "code",
      "metadata": {
        "tags": [],
        "cell_id": "00014-ef7cd301-7b26-4179-b892-e54c5a566cf4",
        "deepnote_cell_type": "code"
      },
      "source": "",
      "execution_count": null,
      "outputs": []
    },
    {
      "cell_type": "markdown",
      "source": "<a style='text-decoration:none;line-height:16px;display:flex;color:#5B5B62;padding:10px;justify-content:end;' href='https://deepnote.com?utm_source=created-in-deepnote-cell&projectId=82b9920f-8f69-4e4d-89ee-551e9484231d' target=\"_blank\">\n<img style='display:inline;max-height:16px;margin:0px;margin-right:7.5px;' src='data:image/svg+xml;base64,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' > </img>\nCreated in <span style='font-weight:600;margin-left:4px;'>Deepnote</span></a>",
      "metadata": {
        "tags": [],
        "created_in_deepnote_cell": true,
        "deepnote_cell_type": "markdown"
      }
    }
  ],
  "nbformat": 4,
  "nbformat_minor": 2,
  "metadata": {
    "orig_nbformat": 2,
    "deepnote_notebook_id": "c52a29a0-02e2-4b55-9e55-2f5d0734a522",
    "deepnote": {},
    "deepnote_execution_queue": []
  }
}